{
 "cells": [
  {
   "cell_type": "code",
   "execution_count": 6,
   "id": "2eb73030",
   "metadata": {},
   "outputs": [
    {
     "data": {
      "text/plain": [
       "               _                           \n",
       "platform       x86_64-apple-darwin17.0     \n",
       "arch           x86_64                      \n",
       "os             darwin17.0                  \n",
       "system         x86_64, darwin17.0          \n",
       "status                                     \n",
       "major          4                           \n",
       "minor          2.0                         \n",
       "year           2022                        \n",
       "month          04                          \n",
       "day            22                          \n",
       "svn rev        82229                       \n",
       "language       R                           \n",
       "version.string R version 4.2.0 (2022-04-22)\n",
       "nickname       Vigorous Calisthenics       "
      ]
     },
     "metadata": {},
     "output_type": "display_data"
    }
   ],
   "source": [
    "R.version"
   ]
  },
  {
   "cell_type": "code",
   "execution_count": 8,
   "id": "54610d14",
   "metadata": {},
   "outputs": [
    {
     "name": "stdout",
     "output_type": "stream",
     "text": [
      "\n",
      " ダウンロードされたパッケージは、以下にあります \n",
      " \t/var/folders/jf/m0wwswhs4f34xfl9dncp2s_40000gn/T//RtmpACKY3b/downloaded_packages \n"
     ]
    }
   ],
   "source": [
    "install.packages(\"BiocManager\")\n",
    "library(BiocManager)"
   ]
  },
  {
   "cell_type": "code",
   "execution_count": 26,
   "id": "f335ebeb",
   "metadata": {},
   "outputs": [
    {
     "name": "stdout",
     "output_type": "stream",
     "text": [
      "[1] 7\n",
      "[1] 3\n",
      "[1] 10\n",
      "[1] 25\n",
      "[1] 2.5\n",
      "[1] 2\n",
      "[1] \"double\"\n",
      "[1] \"Yeah\"\n",
      "[1] 2\n",
      "[1] 3\n",
      "[1] 4\n"
     ]
    }
   ],
   "source": [
    "a = 1\n",
    "\n",
    "print(5+2)\n",
    "print(5-2)\n",
    "print(5*2)\n",
    "print(5**2)\n",
    "print(5/2)\n",
    "print(5%%3)\n",
    "print(typeof(a))\n",
    "if (a==1) {\n",
    "    print(\"Yeah\")\n",
    "}\n",
    "for (i in 2:4){\n",
    "    print(i)\n",
    "}"
   ]
  },
  {
   "cell_type": "code",
   "execution_count": 67,
   "id": "19f81a3f",
   "metadata": {},
   "outputs": [
    {
     "data": {
      "text/html": [
       "<style>\n",
       ".list-inline {list-style: none; margin:0; padding: 0}\n",
       ".list-inline>li {display: inline-block}\n",
       ".list-inline>li:not(:last-child)::after {content: \"\\00b7\"; padding: 0 .5ex}\n",
       "</style>\n",
       "<ol class=list-inline><li>1</li><li>2</li><li>4</li></ol>\n"
      ],
      "text/latex": [
       "\\begin{enumerate*}\n",
       "\\item 1\n",
       "\\item 2\n",
       "\\item 4\n",
       "\\end{enumerate*}\n"
      ],
      "text/markdown": [
       "1. 1\n",
       "2. 2\n",
       "3. 4\n",
       "\n",
       "\n"
      ],
      "text/plain": [
       "[1] 1 2 4"
      ]
     },
     "metadata": {},
     "output_type": "display_data"
    },
    {
     "data": {
      "text/html": [
       "<style>\n",
       ".list-inline {list-style: none; margin:0; padding: 0}\n",
       ".list-inline>li {display: inline-block}\n",
       ".list-inline>li:not(:last-child)::after {content: \"\\00b7\"; padding: 0 .5ex}\n",
       "</style>\n",
       "<ol class=list-inline><li>3</li><li>6</li><li>12</li></ol>\n"
      ],
      "text/latex": [
       "\\begin{enumerate*}\n",
       "\\item 3\n",
       "\\item 6\n",
       "\\item 12\n",
       "\\end{enumerate*}\n"
      ],
      "text/markdown": [
       "1. 3\n",
       "2. 6\n",
       "3. 12\n",
       "\n",
       "\n"
      ],
      "text/plain": [
       "[1]  3  6 12"
      ]
     },
     "metadata": {},
     "output_type": "display_data"
    },
    {
     "data": {
      "text/html": [
       "<style>\n",
       ".list-inline {list-style: none; margin:0; padding: 0}\n",
       ".list-inline>li {display: inline-block}\n",
       ".list-inline>li:not(:last-child)::after {content: \"\\00b7\"; padding: 0 .5ex}\n",
       "</style>\n",
       "<ol class=list-inline><li>2</li><li>4</li><li>8</li></ol>\n"
      ],
      "text/latex": [
       "\\begin{enumerate*}\n",
       "\\item 2\n",
       "\\item 4\n",
       "\\item 8\n",
       "\\end{enumerate*}\n"
      ],
      "text/markdown": [
       "1. 2\n",
       "2. 4\n",
       "3. 8\n",
       "\n",
       "\n"
      ],
      "text/plain": [
       "[1] 2 4 8"
      ]
     },
     "metadata": {},
     "output_type": "display_data"
    },
    {
     "data": {
      "text/html": [
       "<style>\n",
       ".list-inline {list-style: none; margin:0; padding: 0}\n",
       ".list-inline>li {display: inline-block}\n",
       ".list-inline>li:not(:last-child)::after {content: \"\\00b7\"; padding: 0 .5ex}\n",
       "</style>\n",
       "<ol class=list-inline><li>'apple'</li><li>'1'</li><li>'orange'</li><li>'2'</li><li>'banana'</li></ol>\n"
      ],
      "text/latex": [
       "\\begin{enumerate*}\n",
       "\\item 'apple'\n",
       "\\item '1'\n",
       "\\item 'orange'\n",
       "\\item '2'\n",
       "\\item 'banana'\n",
       "\\end{enumerate*}\n"
      ],
      "text/markdown": [
       "1. 'apple'\n",
       "2. '1'\n",
       "3. 'orange'\n",
       "4. '2'\n",
       "5. 'banana'\n",
       "\n",
       "\n"
      ],
      "text/plain": [
       "[1] \"apple\"  \"1\"      \"orange\" \"2\"      \"banana\""
      ]
     },
     "metadata": {},
     "output_type": "display_data"
    },
    {
     "data": {
      "text/html": [
       "'character'"
      ],
      "text/latex": [
       "'character'"
      ],
      "text/markdown": [
       "'character'"
      ],
      "text/plain": [
       "[1] \"character\""
      ]
     },
     "metadata": {},
     "output_type": "display_data"
    }
   ],
   "source": [
    "# 配列 c()\n",
    "x = c(1,2,4)\n",
    "x\n",
    "z = x*3\n",
    "z\n",
    "z = x+x\n",
    "z\n",
    "\n",
    "y = c(\"apple\", 1, \"orange\", 2, \"banana\")\n",
    "y\n",
    "typeof(y)"
   ]
  },
  {
   "cell_type": "code",
   "execution_count": 33,
   "id": "7b6074b8",
   "metadata": {},
   "outputs": [
    {
     "name": "stdout",
     "output_type": "stream",
     "text": [
      "  col1 col2\n",
      "1    1    A\n",
      "2    2    B\n",
      "3    3    C\n",
      "  col1 col2\n",
      "1    1    A\n",
      "2    2    B\n"
     ]
    }
   ],
   "source": [
    "# データフレーム data.frame( 列名1=c() , 列名2=c() )\n",
    "df <- data.frame( col1=c(1, 2, 3), col2=c(\"A\", \"B\", \"C\"))\n",
    "print(df)\n",
    "print(head(df,2))"
   ]
  },
  {
   "cell_type": "code",
   "execution_count": 89,
   "id": "31ca1cea",
   "metadata": {},
   "outputs": [
    {
     "ename": "ERROR",
     "evalue": "Error in parse(text = x, srcfile = src): <text>:6:11:  想定外の数値定数です \n5: row1\n6: row1 = df$1\n             ^\n",
     "output_type": "error",
     "traceback": [
      "Error in parse(text = x, srcfile = src): <text>:6:11:  想定外の数値定数です \n5: row1\n6: row1 = df$1\n             ^\nTraceback:\n"
     ]
    }
   ],
   "source": [
    "df <- data.frame(col1 = c(1, 2, 3), col2 = c(\"A\", \"B\", \"C\"), col3 = c(TRUE, FALSE, TRUE))\n",
    "df\n",
    "\n",
    "row1 = df[1,] # 行指定\n",
    "row1\n",
    "\n",
    "col2 = df[,2]  # 列指定\n",
    "col2 = df$col2 # 列指定\n",
    "col2\n",
    "\n",
    "df = df[-1,-3] # 行&列 削除\n",
    "df\n",
    "\n",
    "colnames(df)"
   ]
  },
  {
   "cell_type": "code",
   "execution_count": 79,
   "id": "1f1a0a02",
   "metadata": {},
   "outputs": [
    {
     "data": {
      "text/html": [
       "<table class=\"dataframe\">\n",
       "<caption>A data.frame: 3 × 3</caption>\n",
       "<thead>\n",
       "\t<tr><th scope=col>col1</th><th scope=col>col2</th><th scope=col>col3</th></tr>\n",
       "\t<tr><th scope=col>&lt;dbl&gt;</th><th scope=col>&lt;chr&gt;</th><th scope=col>&lt;lgl&gt;</th></tr>\n",
       "</thead>\n",
       "<tbody>\n",
       "\t<tr><td>1</td><td>A</td><td> TRUE</td></tr>\n",
       "\t<tr><td>2</td><td>B</td><td>FALSE</td></tr>\n",
       "\t<tr><td>3</td><td>C</td><td> TRUE</td></tr>\n",
       "</tbody>\n",
       "</table>\n"
      ],
      "text/latex": [
       "A data.frame: 3 × 3\n",
       "\\begin{tabular}{lll}\n",
       " col1 & col2 & col3\\\\\n",
       " <dbl> & <chr> & <lgl>\\\\\n",
       "\\hline\n",
       "\t 1 & A &  TRUE\\\\\n",
       "\t 2 & B & FALSE\\\\\n",
       "\t 3 & C &  TRUE\\\\\n",
       "\\end{tabular}\n"
      ],
      "text/markdown": [
       "\n",
       "A data.frame: 3 × 3\n",
       "\n",
       "| col1 &lt;dbl&gt; | col2 &lt;chr&gt; | col3 &lt;lgl&gt; |\n",
       "|---|---|---|\n",
       "| 1 | A |  TRUE |\n",
       "| 2 | B | FALSE |\n",
       "| 3 | C |  TRUE |\n",
       "\n"
      ],
      "text/plain": [
       "  col1 col2 col3 \n",
       "1 1    A     TRUE\n",
       "2 2    B    FALSE\n",
       "3 3    C     TRUE"
      ]
     },
     "metadata": {},
     "output_type": "display_data"
    },
    {
     "data": {
      "text/html": [
       "<table class=\"dataframe\">\n",
       "<caption>A data.frame: 3 × 2</caption>\n",
       "<thead>\n",
       "\t<tr><th scope=col>col1</th><th scope=col>col2</th></tr>\n",
       "\t<tr><th scope=col>&lt;dbl&gt;</th><th scope=col>&lt;chr&gt;</th></tr>\n",
       "</thead>\n",
       "<tbody>\n",
       "\t<tr><td>1</td><td>A</td></tr>\n",
       "\t<tr><td>2</td><td>B</td></tr>\n",
       "\t<tr><td>3</td><td>C</td></tr>\n",
       "</tbody>\n",
       "</table>\n"
      ],
      "text/latex": [
       "A data.frame: 3 × 2\n",
       "\\begin{tabular}{ll}\n",
       " col1 & col2\\\\\n",
       " <dbl> & <chr>\\\\\n",
       "\\hline\n",
       "\t 1 & A\\\\\n",
       "\t 2 & B\\\\\n",
       "\t 3 & C\\\\\n",
       "\\end{tabular}\n"
      ],
      "text/markdown": [
       "\n",
       "A data.frame: 3 × 2\n",
       "\n",
       "| col1 &lt;dbl&gt; | col2 &lt;chr&gt; |\n",
       "|---|---|\n",
       "| 1 | A |\n",
       "| 2 | B |\n",
       "| 3 | C |\n",
       "\n"
      ],
      "text/plain": [
       "  col1 col2\n",
       "1 1    A   \n",
       "2 2    B   \n",
       "3 3    C   "
      ]
     },
     "metadata": {},
     "output_type": "display_data"
    },
    {
     "data": {
      "text/html": [
       "<table class=\"dataframe\">\n",
       "<caption>A data.frame: 3 × 2</caption>\n",
       "<thead>\n",
       "\t<tr><th scope=col>col1</th><th scope=col>col2</th></tr>\n",
       "\t<tr><th scope=col>&lt;dbl&gt;</th><th scope=col>&lt;chr&gt;</th></tr>\n",
       "</thead>\n",
       "<tbody>\n",
       "\t<tr><td>1</td><td>A</td></tr>\n",
       "\t<tr><td>2</td><td>B</td></tr>\n",
       "\t<tr><td>3</td><td>C</td></tr>\n",
       "</tbody>\n",
       "</table>\n"
      ],
      "text/latex": [
       "A data.frame: 3 × 2\n",
       "\\begin{tabular}{ll}\n",
       " col1 & col2\\\\\n",
       " <dbl> & <chr>\\\\\n",
       "\\hline\n",
       "\t 1 & A\\\\\n",
       "\t 2 & B\\\\\n",
       "\t 3 & C\\\\\n",
       "\\end{tabular}\n"
      ],
      "text/markdown": [
       "\n",
       "A data.frame: 3 × 2\n",
       "\n",
       "| col1 &lt;dbl&gt; | col2 &lt;chr&gt; |\n",
       "|---|---|\n",
       "| 1 | A |\n",
       "| 2 | B |\n",
       "| 3 | C |\n",
       "\n"
      ],
      "text/plain": [
       "  col1 col2\n",
       "1 1    A   \n",
       "2 2    B   \n",
       "3 3    C   "
      ]
     },
     "metadata": {},
     "output_type": "display_data"
    },
    {
     "data": {
      "text/html": [
       "<table class=\"dataframe\">\n",
       "<caption>A data.frame: 2 × 3</caption>\n",
       "<thead>\n",
       "\t<tr><th></th><th scope=col>col1</th><th scope=col>col2</th><th scope=col>col3</th></tr>\n",
       "\t<tr><th></th><th scope=col>&lt;dbl&gt;</th><th scope=col>&lt;chr&gt;</th><th scope=col>&lt;lgl&gt;</th></tr>\n",
       "</thead>\n",
       "<tbody>\n",
       "\t<tr><th scope=row>1</th><td>1</td><td>A</td><td> TRUE</td></tr>\n",
       "\t<tr><th scope=row>2</th><td>2</td><td>B</td><td>FALSE</td></tr>\n",
       "</tbody>\n",
       "</table>\n"
      ],
      "text/latex": [
       "A data.frame: 2 × 3\n",
       "\\begin{tabular}{r|lll}\n",
       "  & col1 & col2 & col3\\\\\n",
       "  & <dbl> & <chr> & <lgl>\\\\\n",
       "\\hline\n",
       "\t1 & 1 & A &  TRUE\\\\\n",
       "\t2 & 2 & B & FALSE\\\\\n",
       "\\end{tabular}\n"
      ],
      "text/markdown": [
       "\n",
       "A data.frame: 2 × 3\n",
       "\n",
       "| <!--/--> | col1 &lt;dbl&gt; | col2 &lt;chr&gt; | col3 &lt;lgl&gt; |\n",
       "|---|---|---|---|\n",
       "| 1 | 1 | A |  TRUE |\n",
       "| 2 | 2 | B | FALSE |\n",
       "\n"
      ],
      "text/plain": [
       "  col1 col2 col3 \n",
       "1 1    A     TRUE\n",
       "2 2    B    FALSE"
      ]
     },
     "metadata": {},
     "output_type": "display_data"
    }
   ],
   "source": [
    "df = data.frame(col1 = c(1, 2, 3), col2 = c(\"A\", \"B\", \"C\"), col3 = c(TRUE, FALSE, TRUE))\n",
    "df\n",
    "\n",
    "x = df[, c(\"col1\",\"col2\")] # 列をデータフレームとして抜き出し\n",
    "x\n",
    "\n",
    "y = df[,1:2]  # 列\n",
    "y\n",
    "\n",
    "y = df[1:2,]  # 行\n",
    "y"
   ]
  },
  {
   "cell_type": "code",
   "execution_count": 83,
   "id": "df6744be",
   "metadata": {},
   "outputs": [
    {
     "data": {
      "text/html": [
       "<table class=\"dataframe\">\n",
       "<caption>A data.frame: 3 × 3</caption>\n",
       "<thead>\n",
       "\t<tr><th scope=col>col1</th><th scope=col>col2</th><th scope=col>col3</th></tr>\n",
       "\t<tr><th scope=col>&lt;dbl&gt;</th><th scope=col>&lt;chr&gt;</th><th scope=col>&lt;lgl&gt;</th></tr>\n",
       "</thead>\n",
       "<tbody>\n",
       "\t<tr><td>1</td><td>A</td><td> TRUE</td></tr>\n",
       "\t<tr><td>2</td><td>B</td><td>FALSE</td></tr>\n",
       "\t<tr><td>3</td><td>C</td><td> TRUE</td></tr>\n",
       "</tbody>\n",
       "</table>\n"
      ],
      "text/latex": [
       "A data.frame: 3 × 3\n",
       "\\begin{tabular}{lll}\n",
       " col1 & col2 & col3\\\\\n",
       " <dbl> & <chr> & <lgl>\\\\\n",
       "\\hline\n",
       "\t 1 & A &  TRUE\\\\\n",
       "\t 2 & B & FALSE\\\\\n",
       "\t 3 & C &  TRUE\\\\\n",
       "\\end{tabular}\n"
      ],
      "text/markdown": [
       "\n",
       "A data.frame: 3 × 3\n",
       "\n",
       "| col1 &lt;dbl&gt; | col2 &lt;chr&gt; | col3 &lt;lgl&gt; |\n",
       "|---|---|---|\n",
       "| 1 | A |  TRUE |\n",
       "| 2 | B | FALSE |\n",
       "| 3 | C |  TRUE |\n",
       "\n"
      ],
      "text/plain": [
       "  col1 col2 col3 \n",
       "1 1    A     TRUE\n",
       "2 2    B    FALSE\n",
       "3 3    C     TRUE"
      ]
     },
     "metadata": {},
     "output_type": "display_data"
    },
    {
     "data": {
      "text/html": [
       "<table class=\"dataframe\">\n",
       "<caption>A data.frame: 3 × 3</caption>\n",
       "<thead>\n",
       "\t<tr><th scope=col>SampleA</th><th scope=col>SampleB</th><th scope=col>SampleC</th></tr>\n",
       "\t<tr><th scope=col>&lt;dbl&gt;</th><th scope=col>&lt;chr&gt;</th><th scope=col>&lt;lgl&gt;</th></tr>\n",
       "</thead>\n",
       "<tbody>\n",
       "\t<tr><td>1</td><td>A</td><td> TRUE</td></tr>\n",
       "\t<tr><td>2</td><td>B</td><td>FALSE</td></tr>\n",
       "\t<tr><td>3</td><td>C</td><td> TRUE</td></tr>\n",
       "</tbody>\n",
       "</table>\n"
      ],
      "text/latex": [
       "A data.frame: 3 × 3\n",
       "\\begin{tabular}{lll}\n",
       " SampleA & SampleB & SampleC\\\\\n",
       " <dbl> & <chr> & <lgl>\\\\\n",
       "\\hline\n",
       "\t 1 & A &  TRUE\\\\\n",
       "\t 2 & B & FALSE\\\\\n",
       "\t 3 & C &  TRUE\\\\\n",
       "\\end{tabular}\n"
      ],
      "text/markdown": [
       "\n",
       "A data.frame: 3 × 3\n",
       "\n",
       "| SampleA &lt;dbl&gt; | SampleB &lt;chr&gt; | SampleC &lt;lgl&gt; |\n",
       "|---|---|---|\n",
       "| 1 | A |  TRUE |\n",
       "| 2 | B | FALSE |\n",
       "| 3 | C |  TRUE |\n",
       "\n"
      ],
      "text/plain": [
       "  SampleA SampleB SampleC\n",
       "1 1       A        TRUE  \n",
       "2 2       B       FALSE  \n",
       "3 3       C        TRUE  "
      ]
     },
     "metadata": {},
     "output_type": "display_data"
    },
    {
     "data": {
      "text/html": [
       "<table class=\"dataframe\">\n",
       "<caption>A data.frame: 3 × 3</caption>\n",
       "<thead>\n",
       "\t<tr><th scope=col>SampleA</th><th scope=col>SampleB</th><th scope=col>NA</th></tr>\n",
       "\t<tr><th scope=col>&lt;dbl&gt;</th><th scope=col>&lt;chr&gt;</th><th scope=col>&lt;lgl&gt;</th></tr>\n",
       "</thead>\n",
       "<tbody>\n",
       "\t<tr><td>1</td><td>A</td><td> TRUE</td></tr>\n",
       "\t<tr><td>2</td><td>B</td><td>FALSE</td></tr>\n",
       "\t<tr><td>3</td><td>C</td><td> TRUE</td></tr>\n",
       "</tbody>\n",
       "</table>\n"
      ],
      "text/latex": [
       "A data.frame: 3 × 3\n",
       "\\begin{tabular}{lll}\n",
       " SampleA & SampleB & NA\\\\\n",
       " <dbl> & <chr> & <lgl>\\\\\n",
       "\\hline\n",
       "\t 1 & A &  TRUE\\\\\n",
       "\t 2 & B & FALSE\\\\\n",
       "\t 3 & C &  TRUE\\\\\n",
       "\\end{tabular}\n"
      ],
      "text/markdown": [
       "\n",
       "A data.frame: 3 × 3\n",
       "\n",
       "| SampleA &lt;dbl&gt; | SampleB &lt;chr&gt; | NA &lt;lgl&gt; |\n",
       "|---|---|---|\n",
       "| 1 | A |  TRUE |\n",
       "| 2 | B | FALSE |\n",
       "| 3 | C |  TRUE |\n",
       "\n"
      ],
      "text/plain": [
       "  SampleA SampleB <NA> \n",
       "1 1       A        TRUE\n",
       "2 2       B       FALSE\n",
       "3 3       C        TRUE"
      ]
     },
     "metadata": {},
     "output_type": "display_data"
    }
   ],
   "source": [
    "# データフレームを作成\n",
    "df <- data.frame(col1 = c(1, 2, 3), col2 = c(\"A\", \"B\", \"C\"), col3 = c(TRUE, FALSE, TRUE))\n",
    "df\n",
    "\n",
    "# 列名を変更\n",
    "colnames(df) <- c(\"SampleA\", \"SampleB\", \"SampleC\")\n",
    "df\n",
    "\n",
    "# 列名を変更 (足りないとNA)\n",
    "colnames(df) <- c(\"SampleA\", \"SampleB\")\n",
    "df"
   ]
  },
  {
   "cell_type": "code",
   "execution_count": 86,
   "id": "3370fa75",
   "metadata": {},
   "outputs": [
    {
     "name": "stderr",
     "output_type": "stream",
     "text": [
      "\u001b[1mRows: \u001b[22m\u001b[34m5\u001b[39m \u001b[1mColumns: \u001b[22m\u001b[34m3\u001b[39m\n",
      "\u001b[36m──\u001b[39m \u001b[1mColumn specification\u001b[22m \u001b[36m──────────────────────────────────────────────────────────────────────────────────────────────────────────────────────────────\u001b[39m\n",
      "\u001b[1mDelimiter:\u001b[22m \",\"\n",
      "\u001b[31mchr\u001b[39m (1): name\n",
      "\u001b[32mdbl\u001b[39m (2): id, age\n",
      "\n",
      "\u001b[36mℹ\u001b[39m Use `spec()` to retrieve the full column specification for this data.\n",
      "\u001b[36mℹ\u001b[39m Specify the column types or set `show_col_types = FALSE` to quiet this message.\n"
     ]
    },
    {
     "data": {
      "text/html": [
       "<table class=\"dataframe\">\n",
       "<caption>A spec_tbl_df: 5 × 3</caption>\n",
       "<thead>\n",
       "\t<tr><th scope=col>id</th><th scope=col>name</th><th scope=col>age</th></tr>\n",
       "\t<tr><th scope=col>&lt;dbl&gt;</th><th scope=col>&lt;chr&gt;</th><th scope=col>&lt;dbl&gt;</th></tr>\n",
       "</thead>\n",
       "<tbody>\n",
       "\t<tr><td>1</td><td>Alice  </td><td>25</td></tr>\n",
       "\t<tr><td>2</td><td>Bob    </td><td>30</td></tr>\n",
       "\t<tr><td>3</td><td>Charlie</td><td>35</td></tr>\n",
       "\t<tr><td>4</td><td>David  </td><td>40</td></tr>\n",
       "\t<tr><td>5</td><td>Eve    </td><td>45</td></tr>\n",
       "</tbody>\n",
       "</table>\n"
      ],
      "text/latex": [
       "A spec\\_tbl\\_df: 5 × 3\n",
       "\\begin{tabular}{lll}\n",
       " id & name & age\\\\\n",
       " <dbl> & <chr> & <dbl>\\\\\n",
       "\\hline\n",
       "\t 1 & Alice   & 25\\\\\n",
       "\t 2 & Bob     & 30\\\\\n",
       "\t 3 & Charlie & 35\\\\\n",
       "\t 4 & David   & 40\\\\\n",
       "\t 5 & Eve     & 45\\\\\n",
       "\\end{tabular}\n"
      ],
      "text/markdown": [
       "\n",
       "A spec_tbl_df: 5 × 3\n",
       "\n",
       "| id &lt;dbl&gt; | name &lt;chr&gt; | age &lt;dbl&gt; |\n",
       "|---|---|---|\n",
       "| 1 | Alice   | 25 |\n",
       "| 2 | Bob     | 30 |\n",
       "| 3 | Charlie | 35 |\n",
       "| 4 | David   | 40 |\n",
       "| 5 | Eve     | 45 |\n",
       "\n"
      ],
      "text/plain": [
       "  id name    age\n",
       "1 1  Alice   25 \n",
       "2 2  Bob     30 \n",
       "3 3  Charlie 35 \n",
       "4 4  David   40 \n",
       "5 5  Eve     45 "
      ]
     },
     "metadata": {},
     "output_type": "display_data"
    }
   ],
   "source": [
    "# readrライブラリの読み出し\n",
    "library(readr)\n",
    "\n",
    "# CSVファイルの読み込み\n",
    "data <- read_csv(\"sample.csv\")\n",
    "data\n",
    "\n",
    "# CSVファイルをデータフレームとして読み込み\n",
    "data = as.data.frame(read_csv(\"sample.csv\"))\n",
    "data"
   ]
  },
  {
   "cell_type": "code",
   "execution_count": null,
   "id": "326297e6",
   "metadata": {},
   "outputs": [],
   "source": [
    "# readxlライブラリの読み出し\n",
    "library(readxl)\n",
    "\n",
    "# エクセルファイルの読み込み\n",
    "df <- read_excel(\"example.xlsx\")"
   ]
  },
  {
   "cell_type": "code",
   "execution_count": null,
   "id": "c6bf2697",
   "metadata": {},
   "outputs": [],
   "source": []
  },
  {
   "cell_type": "code",
   "execution_count": null,
   "id": "b681c366",
   "metadata": {},
   "outputs": [],
   "source": []
  },
  {
   "cell_type": "code",
   "execution_count": null,
   "id": "e9b518e6",
   "metadata": {},
   "outputs": [],
   "source": []
  },
  {
   "cell_type": "code",
   "execution_count": null,
   "id": "ce5980b7",
   "metadata": {},
   "outputs": [],
   "source": []
  }
 ],
 "metadata": {
  "kernelspec": {
   "display_name": "R",
   "language": "R",
   "name": "ir"
  },
  "language_info": {
   "codemirror_mode": "r",
   "file_extension": ".r",
   "mimetype": "text/x-r-source",
   "name": "R",
   "pygments_lexer": "r",
   "version": "4.2.0"
  }
 },
 "nbformat": 4,
 "nbformat_minor": 5
}
